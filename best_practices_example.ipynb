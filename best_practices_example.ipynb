{
 "cells": [
  {
   "cell_type": "markdown",
   "metadata": {},
   "source": [
    "Here we try to reproduce the assembly documentation from this [best practices example](https://github.com/SynBioDex/SBOL-examples/blob/main/SBOL/best-practices/BP011/examples.md)\n",
    "\n"
   ]
  },
  {
   "cell_type": "code",
   "execution_count": 111,
   "metadata": {},
   "outputs": [],
   "source": [
    "import sbol3\n",
    "import tyto"
   ]
  },
  {
   "cell_type": "code",
   "execution_count": 112,
   "metadata": {},
   "outputs": [],
   "source": [
    "sbol3.set_namespace('http://sbolstandard.org/testfiles')\n",
    "\n",
    "# Create sequences\n",
    "plasmid_seq = sbol3.Sequence('plasmid_seq' , elements='aaaaaaaaaa', encoding=sbol3.IUPAC_DNA_ENCODING)\n",
    "pcr_prod_seq = sbol3.Sequence('pcr_prod_seq' , elements='aaaaaaaaaa', encoding=sbol3.IUPAC_DNA_ENCODING)\n",
    "final_prod_seq = sbol3.Sequence('final_prod_seq' , elements='aaaaaaaaaa', encoding=sbol3.IUPAC_DNA_ENCODING)\n",
    "\n",
    "restricted_plasmid_seq = sbol3.Sequence('restricted_plasmid_seq' , elements='aaaaaaaaaa', encoding=sbol3.IUPAC_DNA_ENCODING)\n",
    "restricted_pcr_prod_seq = sbol3.Sequence('restricted_pcr_prod_seq' , elements='aaaaaaaaaa', encoding=sbol3.IUPAC_DNA_ENCODING)\n",
    "\n",
    "salI_plasmid = sbol3.SequenceFeature(sbol3.Range(plasmid_seq, 37, 42), roles=[tyto.SO.restriction_enzyme_recognition_site], name='salI_on_plasmid')\n",
    "ascI_plasmid = sbol3.SequenceFeature(sbol3.Range(plasmid_seq, 62, 69), roles=[tyto.SO.restriction_enzyme_recognition_site], name='ascI_on_plasmid')\n",
    "\n",
    "salI_pcr_prod = sbol3.SequenceFeature(sbol3.Range(pcr_prod_seq, 7, 12), roles=[tyto.SO.restriction_enzyme_recognition_site], name='salI_on_pcr_prod')\n",
    "ascI_pcr_prod = sbol3.SequenceFeature(sbol3.Range(pcr_prod_seq, 2256, 2263), roles=[tyto.SO.restriction_enzyme_recognition_site], name='ascI_on_pcr_prod')\n",
    "\n",
    "plasmid = sbol3.Component('plasmid', sbol3.SBO_DNA, features=[salI_plasmid, ascI_plasmid], sequences=[plasmid_seq], description='plasmid')\n",
    "pcr_prod = sbol3.Component('pcr_prod', sbol3.SBO_DNA, features=[salI_pcr_prod, ascI_pcr_prod], sequences=[pcr_prod_seq], description='pcr_prod')\n",
    "final_prod = sbol3.Component('final_prod', sbol3.SBO_DNA, sequences=[final_prod_seq], description='final_prod')\n",
    "restricted_plasmid = sbol3.Component('restricted_plasmid', sbol3.SBO_DNA, sequences=[restricted_plasmid_seq], description='restricted_plasmid')\n",
    "restricted_pcr_prod = sbol3.Component('restricted_pcr_prod', sbol3.SBO_DNA, sequences=[restricted_pcr_prod_seq], description='restricted_pcr_prod')\n",
    "\n",
    "plasmid_subcomp = sbol3.SubComponent(plasmid)\n",
    "pcr_prod_subcomp = sbol3.SubComponent(pcr_prod)\n",
    "final_prod_subcomp = sbol3.SubComponent(final_prod)\n",
    "restricted_plasmid_subcomp = sbol3.SubComponent(restricted_plasmid)\n",
    "restricted_pcr_prod_subcomp = sbol3.SubComponent(restricted_pcr_prod)\n",
    "\n",
    "final_prod.features.extend([plasmid_subcomp, pcr_prod_subcomp, final_prod_subcomp, restricted_plasmid_subcomp, restricted_pcr_prod_subcomp])\n"
   ]
  },
  {
   "cell_type": "code",
   "execution_count": 113,
   "metadata": {},
   "outputs": [],
   "source": [
    "# Digestion interactions\n",
    "\n",
    "salI_subcomp = sbol3.SubComponent('http://purl.obolibrary.org/obo/PR_Q53608', description='EcoRI restriction enzyme')\n",
    "ascI_subcomp = sbol3.SubComponent('http://purl.obolibrary.org/obo/PR_E3VXA3', description='XbaI restriction enzyme')\n",
    "\n",
    "final_prod.features.extend([salI_subcomp, ascI_subcomp])\n",
    "\n",
    "salI_participation_plasmid = sbol3.Participation(tyto.SBO.modifier, salI_subcomp)\n",
    "ascI_participation_plasmid = sbol3.Participation(tyto.SBO.modifier, ascI_subcomp)\n",
    "plasmid_reactant_participation = sbol3.Participation(sbol3.SBO_REACTANT, plasmid_subcomp)\n",
    "restricted_plasmid_product_participation = sbol3.Participation(tyto.SBO.product, restricted_plasmid_subcomp)\n",
    "\n",
    "\n",
    "plasmid_digestion = sbol3.Interaction(tyto.SBO.cleavage, name='plasmid_digestion', participations=[\n",
    "    plasmid_reactant_participation,\n",
    "    restricted_plasmid_product_participation,\n",
    "    salI_participation_plasmid,\n",
    "    ascI_participation_plasmid\n",
    "])\n",
    "\n",
    "plasmid_digestion_component = sbol3.Component('plasmid_digestion_component', sbol3.SBOL_COMPONENT, interactions=[plasmid_digestion])\n",
    "\n",
    "# Add a constraint components references to cutsites of interest left_cut --precedes--> right_cut (see figure backbone)\n",
    "# this sequence feature is in a precedes relationship, or after\n",
    "\n",
    "salI_participation_pcr_prod = sbol3.Participation(tyto.SBO.modifier, salI_subcomp)\n",
    "ascI_participation_pcr_prod = sbol3.Participation(tyto.SBO.modifier, ascI_subcomp)\n",
    "pcr_prod_reaction_participation = sbol3.Participation(sbol3.SBO_REACTANT, pcr_prod_subcomp)\n",
    "restricted_pcr_prod_product_participation = sbol3.Participation(tyto.SBO.product, restricted_pcr_prod_subcomp)\n",
    "\n",
    "pcr_prod_digestion = sbol3.Interaction(tyto.SBO.cleavage, name='pcr_prod_digestion', participations=[\n",
    "    pcr_prod_reaction_participation,\n",
    "    restricted_pcr_prod_product_participation,\n",
    "    salI_participation_pcr_prod,\n",
    "    ascI_participation_pcr_prod\n",
    "])\n",
    "\n",
    "pcr_prod_digestion_component = sbol3.Component('pcr_prod_digestion_component', sbol3.SBOL_COMPONENT, interactions=[pcr_prod_digestion])"
   ]
  },
  {
   "cell_type": "code",
   "execution_count": 114,
   "metadata": {},
   "outputs": [],
   "source": [
    "# Ligation interaction\n",
    "ligase_subcomp = sbol3.SubComponent('http://purl.obolibrary.org/obo/blah', description='T4 DNA ligase')\n",
    "pcr_prod.features.append(ligase_subcomp)\n",
    "\n",
    "ligase_participation = sbol3.Participation(tyto.SBO.modifier, ligase_subcomp)\n",
    "restricted_plasmid_reactant_participation = sbol3.Participation(sbol3.SBO_REACTANT, restricted_plasmid_subcomp)\n",
    "restricted_pcr_prod_reactant_participation = sbol3.Participation(sbol3.SBO_REACTANT, restricted_pcr_prod_subcomp)\n",
    "final_prod_product_participation = sbol3.Participation(tyto.SBO.product, final_prod_subcomp)\n",
    "\n",
    "ligation = sbol3.Interaction(tyto.SBO.conversion, name='ligation', participations=[\n",
    "    restricted_plasmid_reactant_participation,\n",
    "    restricted_pcr_prod_reactant_participation,\n",
    "    final_prod_product_participation,\n",
    "    ligase_participation\n",
    "])\n",
    "\n",
    "ligation_component = sbol3.Component('ligation_component', sbol3.SBOL_COMPONENT, interactions=[ligation])\n",
    "\n",
    "\n"
   ]
  },
  {
   "cell_type": "code",
   "execution_count": 115,
   "metadata": {},
   "outputs": [
    {
     "name": "stdout",
     "output_type": "stream",
     "text": [
      "showing instances: True\n",
      "showing classes: False\n",
      "showing namespaces: True\n",
      "using rdf format: turtle\n",
      "graphic file created: example_combine.ttl.svg\n",
      "graphic was created with output file name: example_combine.ttl.svg\n"
     ]
    }
   ],
   "source": [
    "# Prepare Document\n",
    "doc = sbol3.Document()\n",
    "doc.add(plasmid)\n",
    "doc.add(pcr_prod)\n",
    "doc.add(final_prod)\n",
    "doc.add(plasmid_digestion_component)\n",
    "doc.add(pcr_prod_digestion_component)\n",
    "doc.add(ligation_component)\n",
    "doc.add(restricted_plasmid)\n",
    "doc.add(restricted_pcr_prod)\n",
    "\n",
    "doc.write('example_combine.ttl')\n",
    "doc.write('example_combine.xml')\n",
    "\n",
    "!bash make_graph.sh"
   ]
  }
 ],
 "metadata": {
  "kernelspec": {
   "display_name": ".venv",
   "language": "python",
   "name": "python3"
  },
  "language_info": {
   "codemirror_mode": {
    "name": "ipython",
    "version": 3
   },
   "file_extension": ".py",
   "mimetype": "text/x-python",
   "name": "python",
   "nbconvert_exporter": "python",
   "pygments_lexer": "ipython3",
   "version": "3.9.7"
  }
 },
 "nbformat": 4,
 "nbformat_minor": 2
}
